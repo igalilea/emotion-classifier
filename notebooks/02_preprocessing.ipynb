{
 "cells": [
  {
   "cell_type": "markdown",
   "metadata": {},
   "source": [
    "# Preprocesamiento del Dataset FER2013\n",
    "\n",
    "Este notebook demuestra el proceso de preprocesamiento de las imágenes del dataset FER2013 usando las funciones definidas en `src/data_prep.py`.\n",
    "\n",
    "## Contenido:\n",
    "1. Setup e importación\n",
    "2. Exploración de datos originales\n",
    "3. Aplicación del preprocesamiento\n",
    "4. Verificación de resultados"
   ]
  },
  {
   "cell_type": "code",
   "execution_count": null,
   "metadata": {},
   "source": [
    "import sys\n",
    "sys.path.append('..')\n",
    "\n",
    "import matplotlib.pyplot as plt\n",
    "import numpy as np\n",
    "from pathlib import Path\n",
    "import cv2\n",
    "from src.data_prep import load_and_preprocess_images, save_processed_data, setup_processed_dirs\n",
    "\n",
    "%matplotlib inline\n",
    "plt.style.use('seaborn')"
   ]
  },
  {
   "cell_type": "markdown",
   "metadata": {},
   "source": [
    "## 1. Funciones auxiliares para visualización"
   ]
  },
  {
   "cell_type": "code",
   "execution_count": null,
   "metadata": {},
   "source": [
    "def plot_sample_images(images, labels, num_samples=5):\n",
    "    \"\"\"Visualiza una muestra de imágenes con sus etiquetas\"\"\"\n",
    "    emotion_labels = ['Angry', 'Disgust', 'Fear', 'Happy', 'Sad', 'Surprise', 'Neutral']\n",
    "    \n",
    "    fig, axes = plt.subplots(1, num_samples, figsize=(15, 3))\n",
    "    for i in range(num_samples):\n",
    "        axes[i].imshow(images[i], cmap='gray')\n",
    "        axes[i].set_title(emotion_labels[labels[i]])\n",
    "        axes[i].axis('off')\n",
    "    plt.tight_layout()\n",
    "    plt.show()\n",
    "\n",
    "def plot_class_distribution(labels):\n",
    "    \"\"\"Visualiza la distribución de clases\"\"\"\n",
    "    emotion_labels = ['Angry', 'Disgust', 'Fear', 'Happy', 'Sad', 'Surprise', 'Neutral']\n",
    "    unique, counts = np.unique(labels, return_counts=True)\n",
    "    \n",
    "    plt.figure(figsize=(10, 5))\n",
    "    plt.bar(emotion_labels, counts)\n",
    "    plt.title('Distribución de clases')\n",
    "    plt.xticks(rotation=45)\n",
    "    plt.ylabel('Número de imágenes')\n",
    "    plt.show()"
   ]
  },
  {
   "cell_type": "markdown",
   "metadata": {},
   "source": [
    "## 2. Exploración de datos originales"
   ]
  },
  {
   "cell_type": "code",
   "execution_count": null,
   "metadata": {},
   "source": [
    "# Cargar imágenes originales\n",
    "raw_train_dir = Path('../data/raw/train')\n",
    "print(f\"Cargando imágenes de {raw_train_dir}...\")\n",
    "\n",
    "train_images, train_labels, train_filenames = load_and_preprocess_images(raw_train_dir)\n",
    "\n",
    "# Visualizar algunas imágenes originales\n",
    "print(\"\\nMuestra de imágenes originales:\")\n",
    "plot_sample_images(train_images, train_labels)\n",
    "\n",
    "# Mostrar distribución de clases\n",
    "print(\"\\nDistribución de clases en el conjunto de entrenamiento:\")\n",
    "plot_class_distribution(train_labels)"
   ]
  },
  {
   "cell_type": "markdown",
   "metadata": {},
   "source": [
    "## 3. Aplicar preprocesamiento"
   ]
  },
  {
   "cell_type": "code",
   "execution_count": null,
   "metadata": {},
   "source": [
    "# Calcular estadísticas del conjunto de entrenamiento\n",
    "train_mean = train_images.mean()\n",
    "train_std = train_images.std()\n",
    "\n",
    "print(f\"Estadísticas del conjunto de entrenamiento:\")\n",
    "print(f\"Media: {train_mean:.4f}\")\n",
    "print(f\"Desviación estándar: {train_std:.4f}\")\n",
    "\n",
    "# Aplicar estandarización\n",
    "train_images_processed = (train_images - train_mean) / train_std\n",
    "\n",
    "# Visualizar algunas imágenes procesadas\n",
    "print(\"\\nMuestra de imágenes procesadas:\")\n",
    "plot_sample_images(train_images_processed, train_labels)"
   ]
  },
  {
   "cell_type": "markdown",
   "metadata": {},
   "source": [
    "## 4. Guardar datos procesados"
   ]
  },
  {
   "cell_type": "code",
   "execution_count": null,
   "metadata": {},
   "source": [
    "# Configurar directorios de salida\n",
    "processed_train_dir, processed_test_dir = setup_processed_dirs('../data')\n",
    "\n",
    "# Guardar imágenes procesadas\n",
    "print(\"Guardando imágenes procesadas...\")\n",
    "save_processed_data(train_images_processed, train_labels, train_filenames, processed_train_dir)\n",
    "\n",
    "# Guardar estadísticas de normalización\n",
    "stats = {\n",
    "    'mean': train_mean,\n",
    "    'std': train_std\n",
    "}\n",
    "np.save('../data/processed/normalization_stats.npy', stats)\n",
    "\n",
    "print(\"\\n¡Preprocesamiento completado!\")\n",
    "print(f\"Imágenes guardadas en: {processed_train_dir}\")\n",
    "print(f\"Estadísticas guardadas en: '../data/processed/normalization_stats.npy'\")"
   ]
  },
  {
   "cell_type": "markdown",
   "metadata": {},
   "source": [
    "## 5. Verificación final"
   ]
  },
  {
   "cell_type": "code",
   "execution_count": null,
   "metadata": {},
   "source": [
    "# Cargar y verificar algunas imágenes procesadas\n",
    "processed_files = list(processed_train_dir.glob('*.jpg'))[:5]\n",
    "processed_images = [cv2.imread(str(f), cv2.IMREAD_GRAYSCALE) for f in processed_files]\n",
    "processed_images = np.array(processed_images) / 255.0\n",
    "\n",
    "plt.figure(figsize=(15, 3))\n",
    "for i, img in enumerate(processed_images):\n",
    "    plt.subplot(1, 5, i+1)\n",
    "    plt.imshow(img, cmap='gray')\n",
    "    plt.axis('off')\n",
    "plt.suptitle('Verificación de imágenes procesadas guardadas')\n",
    "plt.show()"
   ]
  }
 ],
 "metadata": {
  "kernelspec": {
   "display_name": "Python 3",
   "language": "python",
   "name": "python3"
  }
 }
}
